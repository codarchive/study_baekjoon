{
 "cells": [
  {
   "cell_type": "code",
   "execution_count": 4,
   "source": [
    "import mysql.connector"
   ],
   "outputs": [
    {
     "output_type": "error",
     "ename": "ModuleNotFoundError",
     "evalue": "No module named 'mysql'",
     "traceback": [
      "\u001b[1;31m---------------------------------------------------------------------------\u001b[0m",
      "\u001b[1;31mModuleNotFoundError\u001b[0m                       Traceback (most recent call last)",
      "\u001b[1;32m<ipython-input-4-9cd6224ba968>\u001b[0m in \u001b[0;36m<module>\u001b[1;34m\u001b[0m\n\u001b[1;32m----> 1\u001b[1;33m \u001b[1;32mimport\u001b[0m \u001b[0mmysql\u001b[0m\u001b[1;33m.\u001b[0m\u001b[0mconnector\u001b[0m\u001b[1;33m\u001b[0m\u001b[1;33m\u001b[0m\u001b[0m\n\u001b[0m",
      "\u001b[1;31mModuleNotFoundError\u001b[0m: No module named 'mysql'"
     ]
    }
   ],
   "metadata": {}
  },
  {
   "cell_type": "code",
   "execution_count": 12,
   "source": [
    "min_num={0:26}\r\n",
    "min_idx=[0]"
   ],
   "outputs": [],
   "metadata": {}
  },
  {
   "cell_type": "code",
   "execution_count": 13,
   "source": [
    "def afterTwoprice(k):\r\n",
    "    global twoPrice\r\n",
    "\r\n",
    "    for i in range(3):\r\n",
    "        if i != min_idx[k]:\r\n",
    "            for j in range(3):\r\n",
    "                if j !=i:\r\n",
    "                    twoPrice[(i,j)]=mat[k+1][i]+mat[k+2][j]\r\n",
    "    minTwoprice=min(twoPrice.values())\r\n",
    "    for a,b in twoPrice.keys():\r\n",
    "        if twoPrice[(a,b)]==minTwoprice:\r\n",
    "            min_idx.append(a)\r\n",
    "            min_idx.append(b)\r\n",
    "    return minTwoprice\r\n",
    "\r\n",
    "\r\n",
    "for k in range(N-1):\r\n",
    "    \r\n",
    "    min_num[k+2]=min_num[k]+afterTwoprice(k)\r\n",
    "    \r\n",
    "    if list(min_num.keys())[-1]==N-1:\r\n",
    "        break\r\n",
    "    \r\n",
    "print(min_num[N-1])"
   ],
   "outputs": [
    {
     "output_type": "stream",
     "name": "stdout",
     "text": [
      "96\n"
     ]
    }
   ],
   "metadata": {}
  },
  {
   "cell_type": "code",
   "execution_count": 7,
   "source": [
    "def afterTwoprice(k):\r\n",
    "    global twoPrice\r\n",
    "\r\n",
    "    for i in range(3):\r\n",
    "        if i != min_idx[k]:\r\n",
    "            for j in range(3):\r\n",
    "                if j !=i:\r\n",
    "                    twoPrice[(i,j)]=mat[k+1][i]+mat[k+2][j]\r\n",
    "    minTwoprice=min(twoPrice.values())\r\n",
    "    for a,b in twoPrice.keys():\r\n",
    "        if twoPrice[(a,b)]==minTwoprice:\r\n",
    "            min_idx.append(a)\r\n",
    "            min_idx.append(b)\r\n",
    "    return minTwoprice\r\n",
    "\r\n",
    "\r\n",
    "for k in range(N-1):\r\n",
    "    min_num[k+2]=min_num[k]+afterTwoprice(k)\r\n",
    "    \r\n",
    "    if list(min_num.keys())[-1]==N-1:\r\n",
    "        break\r\n",
    "    \r\n",
    "print(min_num[N-1])"
   ],
   "outputs": [
    {
     "output_type": "stream",
     "name": "stdout",
     "text": [
      "1\n",
      "2\n"
     ]
    }
   ],
   "metadata": {}
  },
  {
   "cell_type": "code",
   "execution_count": 1,
   "source": [
    "n= int(input())\r\n",
    "tri_nums=list(list(map(int,input().split())) for _ in range(n))\r\n"
   ],
   "outputs": [],
   "metadata": {}
  },
  {
   "cell_type": "code",
   "execution_count": 4,
   "source": [
    "sum_n=dict()\r\n",
    "sum_ns=[]\r\n",
    "\r\n",
    "\r\n",
    "\r\n",
    "def tri(depth=0):\r\n",
    "    import copy\r\n",
    "    global sum_n\r\n",
    "    global sum_ns\r\n",
    "    for i in range(len(tri_nums[depth])):\r\n",
    "        \r\n",
    "        if depth==0:\r\n",
    "            sum_n[(0,0)]=tri_nums[0][0]\r\n",
    "            \r\n",
    "        else :\r\n",
    "\r\n",
    "            a=[]\r\n",
    "            if (depth-1,i) in sum_n.keys():\r\n",
    "                a.append(sum_n[(depth-1,i)]+tri_nums[depth][i])\r\n",
    "            if (depth-1,i-1) in sum_n.keys():\r\n",
    "                a.append(sum_n[(depth-1,i-1)]+tri_nums[depth][i])\r\n",
    "            if a !=[]:\r\n",
    "                sum_n[(depth,i)]=copy.deepcopy(max(a))\r\n",
    "           "
   ],
   "outputs": [],
   "metadata": {}
  },
  {
   "cell_type": "code",
   "execution_count": 1,
   "source": [
    "N=int(input())\r\n",
    "score={i:int(input()) for i in range(N)}"
   ],
   "outputs": [],
   "metadata": {}
  },
  {
   "cell_type": "code",
   "execution_count": 16,
   "source": [
    "routs=[]\r\n",
    "steps=[]\r\n",
    "scores=[]\r\n",
    "state=[]\r\n",
    "def stair(k=0):\r\n",
    "    print(\"k is {}\".format(k))\r\n",
    "    global steps\r\n",
    "    global state\r\n",
    "    if k>=N:\r\n",
    "        routs.append(steps)\r\n",
    "        scores.append(state)\r\n",
    "    else:\r\n",
    "        for i in range(1,3):\r\n",
    "\r\n",
    "            if steps[-2:]==[1,1] and k<N-2:\r\n",
    "                steps.append(2)\r\n",
    "                state.append(score[k+1])\r\n",
    "                stair(k+2)\r\n",
    "\r\n",
    "            else:\r\n",
    "                if k+i<=N:\r\n",
    "                    steps.append(i)\r\n",
    "                    state.append(score[k+i-1])\r\n",
    "                    stair(k+i)\r\n",
    "            steps.pop()\r\n",
    "            state.pop()           \r\n",
    "\r\n",
    "stair(0)\r\n",
    "            "
   ],
   "outputs": [
    {
     "output_type": "stream",
     "name": "stdout",
     "text": [
      "k is 0\n",
      "k is 1\n",
      "k is 2\n",
      "k is 4\n",
      "k is 5\n",
      "k is 6\n",
      "k is 6\n",
      "k is 4\n",
      "k is 5\n",
      "k is 6\n",
      "k is 6\n"
     ]
    },
    {
     "output_type": "error",
     "ename": "IndexError",
     "evalue": "pop from empty list",
     "traceback": [
      "\u001b[1;31m---------------------------------------------------------------------------\u001b[0m",
      "\u001b[1;31mIndexError\u001b[0m                                Traceback (most recent call last)",
      "\u001b[1;32m<ipython-input-16-c77ead4d04fe>\u001b[0m in \u001b[0;36m<module>\u001b[1;34m\u001b[0m\n\u001b[0;32m     26\u001b[0m             \u001b[0mstate\u001b[0m\u001b[1;33m.\u001b[0m\u001b[0mpop\u001b[0m\u001b[1;33m(\u001b[0m\u001b[1;33m)\u001b[0m\u001b[1;33m\u001b[0m\u001b[1;33m\u001b[0m\u001b[0m\n\u001b[0;32m     27\u001b[0m \u001b[1;33m\u001b[0m\u001b[0m\n\u001b[1;32m---> 28\u001b[1;33m \u001b[0mstair\u001b[0m\u001b[1;33m(\u001b[0m\u001b[1;36m0\u001b[0m\u001b[1;33m)\u001b[0m\u001b[1;33m\u001b[0m\u001b[1;33m\u001b[0m\u001b[0m\n\u001b[0m\u001b[0;32m     29\u001b[0m \u001b[1;33m\u001b[0m\u001b[0m\n",
      "\u001b[1;32m<ipython-input-16-c77ead4d04fe>\u001b[0m in \u001b[0;36mstair\u001b[1;34m(k)\u001b[0m\n\u001b[0;32m     22\u001b[0m                     \u001b[0msteps\u001b[0m\u001b[1;33m.\u001b[0m\u001b[0mappend\u001b[0m\u001b[1;33m(\u001b[0m\u001b[0mi\u001b[0m\u001b[1;33m)\u001b[0m\u001b[1;33m\u001b[0m\u001b[1;33m\u001b[0m\u001b[0m\n\u001b[0;32m     23\u001b[0m                     \u001b[0mstate\u001b[0m\u001b[1;33m.\u001b[0m\u001b[0mappend\u001b[0m\u001b[1;33m(\u001b[0m\u001b[0mscore\u001b[0m\u001b[1;33m[\u001b[0m\u001b[0mk\u001b[0m\u001b[1;33m+\u001b[0m\u001b[0mi\u001b[0m\u001b[1;33m-\u001b[0m\u001b[1;36m1\u001b[0m\u001b[1;33m]\u001b[0m\u001b[1;33m)\u001b[0m\u001b[1;33m\u001b[0m\u001b[1;33m\u001b[0m\u001b[0m\n\u001b[1;32m---> 24\u001b[1;33m                     \u001b[0mstair\u001b[0m\u001b[1;33m(\u001b[0m\u001b[0mk\u001b[0m\u001b[1;33m+\u001b[0m\u001b[0mi\u001b[0m\u001b[1;33m)\u001b[0m\u001b[1;33m\u001b[0m\u001b[1;33m\u001b[0m\u001b[0m\n\u001b[0m\u001b[0;32m     25\u001b[0m             \u001b[0msteps\u001b[0m\u001b[1;33m.\u001b[0m\u001b[0mpop\u001b[0m\u001b[1;33m(\u001b[0m\u001b[1;33m)\u001b[0m\u001b[1;33m\u001b[0m\u001b[1;33m\u001b[0m\u001b[0m\n\u001b[0;32m     26\u001b[0m             \u001b[0mstate\u001b[0m\u001b[1;33m.\u001b[0m\u001b[0mpop\u001b[0m\u001b[1;33m(\u001b[0m\u001b[1;33m)\u001b[0m\u001b[1;33m\u001b[0m\u001b[1;33m\u001b[0m\u001b[0m\n",
      "\u001b[1;32m<ipython-input-16-c77ead4d04fe>\u001b[0m in \u001b[0;36mstair\u001b[1;34m(k)\u001b[0m\n\u001b[0;32m     23\u001b[0m                     \u001b[0mstate\u001b[0m\u001b[1;33m.\u001b[0m\u001b[0mappend\u001b[0m\u001b[1;33m(\u001b[0m\u001b[0mscore\u001b[0m\u001b[1;33m[\u001b[0m\u001b[0mk\u001b[0m\u001b[1;33m+\u001b[0m\u001b[0mi\u001b[0m\u001b[1;33m-\u001b[0m\u001b[1;36m1\u001b[0m\u001b[1;33m]\u001b[0m\u001b[1;33m)\u001b[0m\u001b[1;33m\u001b[0m\u001b[1;33m\u001b[0m\u001b[0m\n\u001b[0;32m     24\u001b[0m                     \u001b[0mstair\u001b[0m\u001b[1;33m(\u001b[0m\u001b[0mk\u001b[0m\u001b[1;33m+\u001b[0m\u001b[0mi\u001b[0m\u001b[1;33m)\u001b[0m\u001b[1;33m\u001b[0m\u001b[1;33m\u001b[0m\u001b[0m\n\u001b[1;32m---> 25\u001b[1;33m             \u001b[0msteps\u001b[0m\u001b[1;33m.\u001b[0m\u001b[0mpop\u001b[0m\u001b[1;33m(\u001b[0m\u001b[1;33m)\u001b[0m\u001b[1;33m\u001b[0m\u001b[1;33m\u001b[0m\u001b[0m\n\u001b[0m\u001b[0;32m     26\u001b[0m             \u001b[0mstate\u001b[0m\u001b[1;33m.\u001b[0m\u001b[0mpop\u001b[0m\u001b[1;33m(\u001b[0m\u001b[1;33m)\u001b[0m\u001b[1;33m\u001b[0m\u001b[1;33m\u001b[0m\u001b[0m\n\u001b[0;32m     27\u001b[0m \u001b[1;33m\u001b[0m\u001b[0m\n",
      "\u001b[1;31mIndexError\u001b[0m: pop from empty list"
     ]
    }
   ],
   "metadata": {}
  },
  {
   "cell_type": "code",
   "execution_count": 18,
   "source": [
    "import mysql.connector"
   ],
   "outputs": [
    {
     "output_type": "error",
     "ename": "ModuleNotFoundError",
     "evalue": "No module named 'mysql'",
     "traceback": [
      "\u001b[1;31m---------------------------------------------------------------------------\u001b[0m",
      "\u001b[1;31mModuleNotFoundError\u001b[0m                       Traceback (most recent call last)",
      "\u001b[1;32m<ipython-input-18-9cd6224ba968>\u001b[0m in \u001b[0;36m<module>\u001b[1;34m\u001b[0m\n\u001b[1;32m----> 1\u001b[1;33m \u001b[1;32mimport\u001b[0m \u001b[0mmysql\u001b[0m\u001b[1;33m.\u001b[0m\u001b[0mconnector\u001b[0m\u001b[1;33m\u001b[0m\u001b[1;33m\u001b[0m\u001b[0m\n\u001b[0m",
      "\u001b[1;31mModuleNotFoundError\u001b[0m: No module named 'mysql'"
     ]
    }
   ],
   "metadata": {}
  },
  {
   "cell_type": "code",
   "execution_count": 3,
   "source": [
    "import sys\r\n",
    "N= int(sys.stdin.readline())\r\n",
    "arrs=[0]*(N+1)\r\n",
    "arrs[1]=1\r\n",
    "arrs[2]=2\r\n",
    "\r\n",
    "if N>3:\r\n",
    "    for i in range(1,N-1):\r\n",
    "        arrs[i+2]=(arrs[i]+arrs[i+1])%15746\r\n",
    "\r\n",
    "print(arrs[N])"
   ],
   "outputs": [
    {
     "output_type": "stream",
     "name": "stdout",
     "text": [
      "5\n"
     ]
    }
   ],
   "metadata": {}
  },
  {
   "cell_type": "code",
   "execution_count": 8,
   "source": [
    "arrs=dict()\r\n",
    "\r\n",
    "def fillN(N):\r\n",
    "    global arrs\r\n",
    "    if N==1:\r\n",
    "        ans=['1']\r\n",
    "        arrs[N]=ans\r\n",
    "        return ans\r\n",
    "    elif N==2:\r\n",
    "        ans=['11','00']\r\n",
    "        arrs[N]=ans\r\n",
    "        return ans\r\n",
    "    elif N in arrs.keys():\r\n",
    "        ans=arrs[N]\r\n",
    "        return ans\r\n",
    "    else:    \r\n",
    "        ans= list(set([i+'00' for i in fillN(N-2)]+ [i+'1' for i in fillN(N-1)]))\r\n",
    "        arrs[N]=ans\r\n",
    "        return ans\r\n",
    "            "
   ],
   "outputs": [
    {
     "output_type": "error",
     "ename": "TypeError",
     "evalue": "unsupported operand type(s) for +: 'set' and 'set'",
     "traceback": [
      "\u001b[1;31m---------------------------------------------------------------------------\u001b[0m",
      "\u001b[1;31mTypeError\u001b[0m                                 Traceback (most recent call last)",
      "\u001b[1;32m<ipython-input-8-b6dbeaa8a3c4>\u001b[0m in \u001b[0;36m<module>\u001b[1;34m\u001b[0m\n\u001b[1;32m----> 1\u001b[1;33m \u001b[0mset\u001b[0m\u001b[1;33m(\u001b[0m\u001b[1;33m[\u001b[0m\u001b[1;36m1\u001b[0m\u001b[1;33m,\u001b[0m\u001b[1;36m0\u001b[0m\u001b[1;33m,\u001b[0m\u001b[1;36m3\u001b[0m\u001b[1;33m,\u001b[0m\u001b[1;36m5\u001b[0m\u001b[1;33m]\u001b[0m\u001b[1;33m)\u001b[0m\u001b[1;33m+\u001b[0m\u001b[0mset\u001b[0m\u001b[1;33m(\u001b[0m\u001b[1;33m[\u001b[0m\u001b[1;36m2\u001b[0m\u001b[1;33m,\u001b[0m\u001b[1;36m3\u001b[0m\u001b[1;33m,\u001b[0m\u001b[1;36m6\u001b[0m\u001b[1;33m]\u001b[0m\u001b[1;33m)\u001b[0m\u001b[1;33m\u001b[0m\u001b[1;33m\u001b[0m\u001b[0m\n\u001b[0m",
      "\u001b[1;31mTypeError\u001b[0m: unsupported operand type(s) for +: 'set' and 'set'"
     ]
    }
   ],
   "metadata": {}
  },
  {
   "cell_type": "code",
   "execution_count": 10,
   "source": [
    "import sys\r\n",
    "T= int(sys.stdin.readline())\r\n",
    "for _ in range(T):\r\n",
    "    N=int(sys.stdin.readline())\r\n",
    "    arr=[1,1,1,2,2,3]\r\n",
    "    if N<len(arr):\r\n",
    "        print(arr[N-1])\r\n",
    "    else:\r\n",
    "        arr.extend([0]*(N-6))\r\n",
    "        for i in range(N-6):\r\n",
    "            \r\n",
    "            arr[i+6]=arr[i+1]+arr[i+5]\r\n",
    "        print(arr[N-1])\r\n"
   ],
   "outputs": [
    {
     "output_type": "stream",
     "name": "stdout",
     "text": [
      "16\n"
     ]
    }
   ],
   "metadata": {}
  },
  {
   "cell_type": "code",
   "execution_count": 11,
   "source": [
    "T=int(input())\r\n",
    "for _ in range(T):\r\n",
    "    N=int(input())\r\n",
    "    arr=[1,1,1,2,2,3]\r\n",
    "    if N<len(arr):\r\n",
    "        print(arr[N-1])\r\n",
    "    else:\r\n",
    "        arr.extend([0]*(N-6))\r\n",
    "        for i in range(N-6):\r\n",
    "            \r\n",
    "            arr[i+6]=arr[i+1]+arr[i+5]\r\n",
    "        print(arr[N-1])\r\n"
   ],
   "outputs": [
    {
     "output_type": "stream",
     "name": "stdout",
     "text": [
      "3\n",
      "16\n"
     ]
    }
   ],
   "metadata": {}
  },
  {
   "cell_type": "code",
   "execution_count": null,
   "source": [
    "N = int(input())\r\n",
    "coord_set=[]\r\n",
    "coord=dict()\r\n",
    "\r\n",
    "\r\n",
    "def Q_cord(line,i_li):\r\n",
    "    #print(\"line{} call!\".format(line))\r\n",
    "    if line == N:\r\n",
    "        coord_set.append(coord)\r\n",
    "        print(\"append!{}\".format(coord))\r\n",
    "        \r\n",
    "    else:\r\n",
    "        for i in i_li:\r\n",
    "            if (True not in list(abs(list(coord.keys())[k]-line) == abs(list(coord.values())[k]-i) for k in range(line))) and (len({i}-set(list(coord.values())[k] for k in range(line))))!=0 :\r\n",
    "                coord[line] = i\r\n",
    "\r\n",
    "                #print(coord)\r\n",
    "                \r\n",
    "                #print('Q_cord')\r\n",
    "                Q_cord(line+1,i_li)\r\n",
    "                #print(\"We comeback line{}\".format(line))\r\n",
    "                \r\n",
    "                \r\n",
    "          \r\n",
    "         \r\n",
    "                \r\n",
    "        \r\n",
    "            \r\n",
    "\r\n",
    "\r\n",
    "\r\n",
    "            \r\n",
    "\r\n",
    "\r\n",
    "Q_cord(0,list(range(N)))"
   ],
   "outputs": [],
   "metadata": {}
  },
  {
   "cell_type": "code",
   "execution_count": null,
   "source": [
    "\r\n",
    "N = int(input())\r\n",
    "coord_set=[]\r\n",
    "coord=dict()\r\n",
    "num=0\r\n",
    "\r\n",
    "def Q_cord(line,i_li):\r\n",
    "    global num\r\n",
    "    if line == N:\r\n",
    "        coord_set.append(coord)\r\n",
    "        num+=1\r\n",
    "        \r\n",
    "    else:\r\n",
    "        for i in i_li:\r\n",
    "            if (True not in list(abs(list(coord.keys())[k]-line) == abs(list(coord.values())[k]-i) for k in range(line))) and (len({i}-set(list(coord.values())[k] for k in range(line))))!=0 :\r\n",
    "                coord[line] = i\r\n",
    "\r\n",
    "                Q_cord(line+1,i_li)\r\n",
    "              \r\n",
    "\r\n",
    "Q_cord(0,list(range(N)))\r\n",
    "print(num)"
   ],
   "outputs": [],
   "metadata": {}
  },
  {
   "cell_type": "code",
   "execution_count": null,
   "source": [
    "len(coord)"
   ],
   "outputs": [],
   "metadata": {}
  },
  {
   "cell_type": "code",
   "execution_count": null,
   "source": [
    "N = int(input())\r\n",
    "coord_set=[]\r\n",
    "coord=[]\r\n",
    "dontGo=[]\r\n",
    "line=1\r\n",
    "def Q_cord():\r\n",
    "    global coord\r\n",
    "    global line\r\n",
    "    for i in range(1,N+1):\r\n",
    "    \r\n",
    "        if len({i}-set(coord[n][1] for n in range(len(coord))))!=0:\r\n",
    "            if (abs(coord[k][0]-line) != abs(coord[k][1]-i) for k in range(len(coord))) :\r\n",
    "                coord.append((line,i))\r\n",
    "                \r\n",
    "                if len(coord)==N:\r\n",
    "                    coord_set.append(coord)\r\n",
    "                    coord=[]\r\n",
    "                    line=1\r\n",
    "                else:\r\n",
    "                    line+=1\r\n",
    "                    Q_cord()\r\n",
    "        \r\n",
    "\r\n",
    "\r\n",
    "\r\n",
    "            \r\n",
    "\r\n",
    "\r\n",
    "Q_cord()\r\n",
    "\r\n",
    "\r\n",
    "\r\n",
    "\r\n",
    "\r\n",
    "\r\n"
   ],
   "outputs": [],
   "metadata": {}
  },
  {
   "cell_type": "code",
   "execution_count": null,
   "source": [],
   "outputs": [],
   "metadata": {}
  },
  {
   "cell_type": "code",
   "execution_count": null,
   "source": [],
   "outputs": [],
   "metadata": {}
  },
  {
   "cell_type": "markdown",
   "source": [],
   "metadata": {}
  },
  {
   "cell_type": "code",
   "execution_count": null,
   "source": [
    "N=8\r\n",
    "lines=3\r\n",
    "posit=3\r\n",
    "dontGo=[]\r\n",
    "for n in range(1,N+1):\r\n",
    "    m=[]\r\n",
    "    m=posit-(n-lines)\r\n",
    "    if 0<n<=N and 0<m<=N:\r\n",
    "        print((n,m))\r\n",
    "    m=posit+(n-lines)\r\n",
    "    if 0<n<=N and 0<m<=N:\r\n",
    "        print((n,m))"
   ],
   "outputs": [],
   "metadata": {}
  },
  {
   "cell_type": "markdown",
   "source": [],
   "metadata": {}
  }
 ],
 "metadata": {
  "orig_nbformat": 4,
  "language_info": {
   "name": "python",
   "version": "3.8.6",
   "mimetype": "text/x-python",
   "codemirror_mode": {
    "name": "ipython",
    "version": 3
   },
   "pygments_lexer": "ipython3",
   "nbconvert_exporter": "python",
   "file_extension": ".py"
  },
  "kernelspec": {
   "name": "python3",
   "display_name": "Python 3.8.6 32-bit"
  },
  "interpreter": {
   "hash": "2db524e06e9f5f4ffedc911c917cb75e12dbc923643829bf417064a77eb14d37"
  }
 },
 "nbformat": 4,
 "nbformat_minor": 2
}